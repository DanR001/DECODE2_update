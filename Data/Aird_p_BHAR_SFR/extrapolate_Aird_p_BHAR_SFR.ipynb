{
 "cells": [
  {
   "cell_type": "code",
   "execution_count": 1,
   "id": "cb53d8b6",
   "metadata": {},
   "outputs": [],
   "source": [
    "import numpy as np\n",
    "from scipy.interpolate import interp1d\n",
    "from scipy.integrate import trapz, cumtrapz\n",
    "import matplotlib.pyplot as plt"
   ]
  },
  {
   "cell_type": "code",
   "execution_count": null,
   "id": "ab76a38c",
   "metadata": {},
   "outputs": [],
   "source": []
  },
  {
   "cell_type": "code",
   "execution_count": 2,
   "id": "1d55b309",
   "metadata": {},
   "outputs": [],
   "source": [
    "def nearest(vector,value):\n",
    "    res=(np.abs(vector - value)).argmin()\n",
    "    return res"
   ]
  },
  {
   "cell_type": "code",
   "execution_count": null,
   "id": "0fe78d3d",
   "metadata": {},
   "outputs": [],
   "source": []
  },
  {
   "cell_type": "code",
   "execution_count": 56,
   "id": "4f500be3",
   "metadata": {},
   "outputs": [
    {
     "ename": "NameError",
     "evalue": "name 'nhalo' is not defined",
     "output_type": "error",
     "traceback": [
      "\u001b[0;31m---------------------------------------------------------------------------\u001b[0m",
      "\u001b[0;31mNameError\u001b[0m                                 Traceback (most recent call last)",
      "\u001b[0;32m/var/folders/_x/bpdc28dn32b7_s0w_0pr957r0000gn/T/ipykernel_76431/1430837569.py\u001b[0m in \u001b[0;36m<module>\u001b[0;34m\u001b[0m\n\u001b[1;32m      8\u001b[0m \u001b[0midx\u001b[0m\u001b[0;34m=\u001b[0m\u001b[0mnearest\u001b[0m\u001b[0;34m(\u001b[0m\u001b[0mz\u001b[0m\u001b[0;34m,\u001b[0m\u001b[0;36m0.3\u001b[0m\u001b[0;34m)\u001b[0m\u001b[0;34m\u001b[0m\u001b[0;34m\u001b[0m\u001b[0m\n\u001b[1;32m      9\u001b[0m \u001b[0msBHAR\u001b[0m\u001b[0;34m=\u001b[0m\u001b[0;34m[\u001b[0m\u001b[0;34m]\u001b[0m\u001b[0;34m\u001b[0m\u001b[0;34m\u001b[0m\u001b[0m\n\u001b[0;32m---> 10\u001b[0;31m \u001b[0;32mfor\u001b[0m \u001b[0migal\u001b[0m \u001b[0;32min\u001b[0m \u001b[0mrange\u001b[0m\u001b[0;34m(\u001b[0m\u001b[0mnhalo\u001b[0m\u001b[0;34m)\u001b[0m\u001b[0;34m:\u001b[0m\u001b[0;34m\u001b[0m\u001b[0;34m\u001b[0m\u001b[0m\n\u001b[0m\u001b[1;32m     11\u001b[0m     \u001b[0;32mif\u001b[0m \u001b[0;36m8.5\u001b[0m\u001b[0;34m<\u001b[0m\u001b[0mlogmstar_integrated\u001b[0m\u001b[0;34m[\u001b[0m\u001b[0migal\u001b[0m\u001b[0;34m,\u001b[0m\u001b[0midx\u001b[0m\u001b[0;34m]\u001b[0m\u001b[0;34m<=\u001b[0m\u001b[0;36m9.\u001b[0m\u001b[0;34m:\u001b[0m\u001b[0;34m\u001b[0m\u001b[0;34m\u001b[0m\u001b[0m\n\u001b[1;32m     12\u001b[0m         \u001b[0mindex\u001b[0m\u001b[0;34m=\u001b[0m\u001b[0;36m0\u001b[0m\u001b[0;34m\u001b[0m\u001b[0;34m\u001b[0m\u001b[0m\n",
      "\u001b[0;31mNameError\u001b[0m: name 'nhalo' is not defined"
     ]
    }
   ],
   "source": [
    "# compute BHAR function from catalogue's galaxies + Aird's p(sBHAR)\n",
    "#logms_sample=[8.75,9.25,9.75,10.25,10.75,11.25]\n",
    "#p=[np.loadtxt(\"../../../GalaxyProjects/Discrete-Statistical-Semi-Empirical-Model/DREAM/Data/Aird+2019/p_lambda_z=0.3_Ms=%.2f.txt\"%logMS) for logMS in logms_sample]\n",
    "#cum_int=[ cumtrapz(10.**p[i][:,1], p[i][:,0], initial=0.) for i in range(len(logms_sample)) ]\n",
    "#interps=[ interp1d(cum_int[i], p[i][:,0], fill_value=\"extrapolate\") for i in range(len(logms_sample)) ]\n",
    "#maxs=[np.max(cum_int[i]) for i in range(len(logms_sample)) ]\n",
    "#mins=[np.min(cum_int[i]) for i in range(len(logms_sample)) ]\n",
    "#idx=nearest(z,0.3)\n",
    "#sBHAR=[]\n",
    "#for igal in range(nhalo):\n",
    "#    if 8.5<logmstar_integrated[igal,idx]<=9.:\n",
    "#        index=0\n",
    "#    elif 9<logmstar_integrated[igal,idx]<=9.5:\n",
    "#        index=1\n",
    "#    elif 9.5<logmstar_integrated[igal,idx]<=10.:\n",
    "#        index=2\n",
    "#    elif 10.<logmstar_integrated[igal,idx]<=10.5:\n",
    "#        index=3\n",
    "#    elif 10.5<logmstar_integrated[igal,idx]<=11.:\n",
    "#        index=4\n",
    "#    elif 11.<logmstar_integrated[igal,idx]:#<=11.5:\n",
    "#        index=5\n",
    "#    else:\n",
    "#        sBHAR.append(-66.)\n",
    "#        continue\n",
    "#    randn=np.random.uniform(mins[index],maxs[index])\n",
    "#    sBHAR.append(float(interps[index](randn)))\n",
    "#sBHAR=np.array(sBHAR)\n",
    "#BHAR=sBHAR+logmstar_integrated[:,idx]"
   ]
  },
  {
   "cell_type": "code",
   "execution_count": null,
   "id": "9f2938e5",
   "metadata": {},
   "outputs": [],
   "source": []
  },
  {
   "cell_type": "code",
   "execution_count": null,
   "id": "eaf81a97",
   "metadata": {},
   "outputs": [],
   "source": []
  },
  {
   "cell_type": "code",
   "execution_count": null,
   "id": "c7fdaf50",
   "metadata": {},
   "outputs": [],
   "source": []
  },
  {
   "cell_type": "code",
   "execution_count": null,
   "id": "6559ead0",
   "metadata": {},
   "outputs": [],
   "source": [
    "# compute BHAR function from catalogue's galaxies + Aird's p(BHAR/SFR)\n",
    "logms_sample=[8.75,9.25,9.75,10.25,10.75,11.25]\n",
    "p=[np.loadtxt(\"../../../GalaxyProjects/Discrete-Statistical-Semi-Empirical-Model/DREAM/Data/Aird+2020/p_BHAR_SFR_z=0.3_Ms=%.2f.txt\"%logMS) for logMS in logms_sample]\n",
    "cum_int=[ cumtrapz(10.**p[i][:,1], p[i][:,0], initial=0.) for i in range(len(logms_sample)) ]\n",
    "interps=[ interp1d(cum_int[i], p[i][:,0], fill_value=\"extrapolate\") for i in range(len(logms_sample)) ]\n",
    "maxs=[np.max(cum_int[i]) for i in range(len(logms_sample)) ]\n",
    "mins=[np.min(cum_int[i]) for i in range(len(logms_sample)) ]\n",
    "idx=nearest(z,0.3)\n",
    "BHAR=[]\n",
    "for igal in range(nhalo):\n",
    "    if logmstar_integrated[igal,idx]<=9.:\n",
    "        index=0\n",
    "    elif 9<logmstar_integrated[igal,idx]<=9.5:\n",
    "        index=1\n",
    "    elif 9.5<logmstar_integrated[igal,idx]<=10.:\n",
    "        index=2\n",
    "    elif 10.<logmstar_integrated[igal,idx]<=10.5:\n",
    "        index=3\n",
    "    elif 10.5<logmstar_integrated[igal,idx]<=11.:\n",
    "        index=4\n",
    "    elif 11.<logmstar_integrated[igal,idx]:#<=11.5:\n",
    "        index=5\n",
    "    else:\n",
    "        BHAR.append(-66.)\n",
    "        continue\n",
    "    randn=np.random.uniform(mins[index],maxs[index])\n",
    "    BHAR.append(float(interps[index](randn)))\n",
    "BHAR=np.array(BHAR)\n",
    "BHAR=BHAR+sfrlog_cat[:,idx]"
   ]
  },
  {
   "cell_type": "code",
   "execution_count": null,
   "id": "120823a9",
   "metadata": {},
   "outputs": [],
   "source": [
    "#plt.hist(sBHAR[sBHAR>-66.])\n",
    "plt.hist(BHAR[BHAR>-50.])\n",
    "plt.yscale(\"log\")"
   ]
  },
  {
   "cell_type": "code",
   "execution_count": null,
   "id": "30122631",
   "metadata": {},
   "outputs": [],
   "source": [
    "mbhdotlog=np.arange(-6, 2, 0.1)\n",
    "phi_BHAR=np.histogram(BHAR,bins=mbhdotlog)[0] / 0.1 / volume\n",
    "plt.plot(mbhdotlog[:-1]+0.05, np.log10(phi_BHAR))\n",
    "plt.xlim(-5.5,1.2)\n",
    "plt.ylim(-5.2,0.2)"
   ]
  },
  {
   "cell_type": "code",
   "execution_count": null,
   "id": "e40794fc",
   "metadata": {},
   "outputs": [],
   "source": []
  },
  {
   "cell_type": "code",
   "execution_count": null,
   "id": "591f9e78",
   "metadata": {},
   "outputs": [],
   "source": []
  },
  {
   "cell_type": "code",
   "execution_count": 50,
   "id": "03c2df45",
   "metadata": {},
   "outputs": [],
   "source": [
    "z=np.arange(0.,6.,0.1)\n",
    "logms=np.arange(8,12,0.1)\n",
    "mbhdotlog=np.arange(-10, 2, 0.1)\n",
    "red_sample=[0.3, 0.75, 1.25, 1.75, 2.25, 2.75]\n",
    "matrix=np.zeros((logms.size, z.size, mbhdotlog.size))\n",
    "for iz,z in enumerate(z):\n",
    "    Z=red_sample[nearest(red_sample,z)]\n",
    "    if Z==0.3 or Z==0.75:\n",
    "        logms_sample=[8.75,9.25,9.75,10.25,10.75,11.25]\n",
    "    elif Z==1.25:\n",
    "        logms_sample=[9.25,9.75,10.25,10.75,11.25]\n",
    "    elif Z==1.75:\n",
    "        logms_sample=[9.75,10.25,10.75,11.25]\n",
    "    elif Z==2.25 or Z==2.75:\n",
    "        logms_sample=[10.25,10.75,11.25]\n",
    "    p=[np.loadtxt(\"../../../GalaxyProjects/Discrete-Statistical-Semi-Empirical-Model/DREAM/Data/Aird+2020/p_BHAR_SFR_z={:.2f}_Ms={:.2f}.txt\".format(Z,logMS)) for logMS in logms_sample]\n",
    "    #cum_int=[ cumtrapz(10.**p[i][:,1], p[i][:,0], initial=0.) for i in range(len(logms_sample)) ]\n",
    "    #interps=[ interp1d(cum_int[i], p[i][:,0], fill_value=\"extrapolate\") for i in range(len(logms_sample)) ]\n",
    "    #maxs=[np.max(cum_int[i]) for i in range(len(logms_sample)) ]\n",
    "    #mins=[np.min(cum_int[i]) for i in range(len(logms_sample)) ]\n",
    "    p_interpolated=np.array([ interp1d(p[i][:,1], p[i][:,0], fill_value=\"extrapolate\")(mbhdotlog) for i in range(len(logms_sample)) ])\n",
    "    for imbh,Mbhdotlog in enumerate(mbhdotlog):\n",
    "        matrix[:,iz,imbh]=interp1d( logms_sample, p_interpolated[:,imbh], fill_value=\"extrapolate\" )(logms)\n",
    "#np.save(\"Aird_p_BHAR_SFR/p_BHAR_SFR_matrix.npy\",matrix)"
   ]
  },
  {
   "cell_type": "code",
   "execution_count": 52,
   "id": "756a8424",
   "metadata": {},
   "outputs": [
    {
     "name": "stderr",
     "output_type": "stream",
     "text": [
      "/Users/haofu/opt/anaconda3/lib/python3.7/site-packages/ipykernel_launcher.py:4: RuntimeWarning: overflow encountered in power\n",
      "  after removing the cwd from sys.path.\n"
     ]
    }
   ],
   "source": [
    "cum_prob=matrix.copy()#np.zeros((logms.size, z.size, mbhdotlog.size))\n",
    "for iz in range(z.size):\n",
    "    for ims in range(logms.size):\n",
    "        cum_prob[ims,iz,:]=cumtrapz(10.**matrix[ims,iz,:],mbhdotlog,initial=0.)\n",
    "#np.save(\"Aird_p_BHAR_SFR/Aird_cum_prob.npy\",cum_prob)"
   ]
  },
  {
   "cell_type": "code",
   "execution_count": null,
   "id": "10961dc1",
   "metadata": {},
   "outputs": [],
   "source": []
  },
  {
   "cell_type": "code",
   "execution_count": null,
   "id": "7cf7583a",
   "metadata": {},
   "outputs": [],
   "source": []
  }
 ],
 "metadata": {
  "kernelspec": {
   "display_name": "Python 3 (ipykernel)",
   "language": "python",
   "name": "python3"
  },
  "language_info": {
   "codemirror_mode": {
    "name": "ipython",
    "version": 3
   },
   "file_extension": ".py",
   "mimetype": "text/x-python",
   "name": "python",
   "nbconvert_exporter": "python",
   "pygments_lexer": "ipython3",
   "version": "3.7.12"
  }
 },
 "nbformat": 4,
 "nbformat_minor": 5
}
