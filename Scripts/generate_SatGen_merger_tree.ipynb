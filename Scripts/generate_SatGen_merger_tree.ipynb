{
 "cells": [
  {
   "cell_type": "code",
   "execution_count": 2,
   "id": "cef1dc55",
   "metadata": {},
   "outputs": [],
   "source": [
    "import numpy as np\n",
    "import matplotlib.pyplot as plt\n",
    "from colossus.lss import mass_function\n",
    "from scipy.integrate import trapezoid as trapz, cumulative_trapezoid as cumtrapz\n",
    "from scipy.interpolate import interp1d,interp2d\n",
    "import matplotlib.cm as cm\n",
    "from scipy import special\n",
    "from scipy.optimize import curve_fit\n",
    "import pandas as pd\n",
    "from tqdm import tqdm\n",
    "from time import time\n",
    "import sys\n",
    "plt.rc('axes', linewidth=1.5)\n",
    "\n",
    "from colossus.cosmology import cosmology\n",
    "Cosmo = cosmology.setCosmology(\"planck18\")\n",
    "\n",
    "from my_functions import *\n",
    "\n",
    "import warnings\n",
    "warnings.filterwarnings(\"ignore\")\n",
    "\n",
    "plt.rc('xtick', labelsize=15)\n",
    "plt.rc('ytick', labelsize=15)"
   ]
  },
  {
   "cell_type": "code",
   "execution_count": 2,
   "id": "57c70cad",
   "metadata": {},
   "outputs": [
    {
     "name": "stdout",
     "output_type": "stream",
     "text": [
      ">>> Initializing SatGen ...\n"
     ]
    }
   ],
   "source": [
    "sys.path.append(\"SatGen/\")\n",
    "from TreeGen_Sub import *"
   ]
  },
  {
   "cell_type": "code",
   "execution_count": 3,
   "id": "a483e1cc",
   "metadata": {},
   "outputs": [],
   "source": [
    "nz=50\n",
    "z=np.linspace(0.01,5.01,nz)\n",
    "#nhalo=100000\n",
    "#mhlog_arr=np.loadtxt(\"../Method2/mhlog_arr_z8_>11.txt\").reshape(nhalo,nz)\n",
    "#dmhdtlog_arr=np.loadtxt(\"../Method2/dmhdtlog_arr_z8_>11.txt\").reshape(nhalo,nz)\n",
    "nhalo=9908\n",
    "mhlog_arr=np.loadtxt(\"mhlog_arr_z8_>11_reduced.txt\").reshape(nhalo,nz)\n",
    "dmhdtlog_arr=np.loadtxt(\"dmhdtlog_arr_z8_>11_reduced.txt\").reshape(nhalo,nz)"
   ]
  },
  {
   "cell_type": "code",
   "execution_count": 4,
   "id": "cbe81887",
   "metadata": {},
   "outputs": [],
   "source": [
    "#for ihalo in tqdm(range(nhalo)):\n",
    "#    red, mass, order=loop(z,mhlog_arr[ihalo,:])"
   ]
  },
  {
   "cell_type": "code",
   "execution_count": 7,
   "id": "1aa02cd2",
   "metadata": {
    "scrolled": true
   },
   "outputs": [
    {
     "name": "stderr",
     "output_type": "stream",
     "text": [
      "100%|████████████████████████████████████████████████████████████████████████████| 100/100 [01:30<00:00,  1.10it/s]\n"
     ]
    }
   ],
   "source": [
    "#create merger tree using Satgen\n",
    "subhaloes=[]\n",
    "infall_zs=[]\n",
    "orders=[]\n",
    "merger_histories=[]\n",
    "for ihalo in tqdm(range(100)):\n",
    "    #red, mass, order=loop(z,mhlog_arr[ihalo,:])\n",
    "    try:\n",
    "        red, mass, order=loop(z,mhlog_arr[ihalo,:])\n",
    "        #red, mass, order=loop(z,mhlog_arr[ihalo+9700,:])\n",
    "    except:\n",
    "        subhaloes.append(np.zeros(10)-99.)\n",
    "        infall_zs.append(np.zeros(10))\n",
    "        orders.append(np.zeros(10)+10)\n",
    "        merger_histories.append(np.zeros(z.size)-99.)\n",
    "    mass=np.log10(mass)\n",
    "    subhaloes.append(np.array([]))\n",
    "    infall_zs.append(np.array([]))\n",
    "    orders.append(np.array([]))\n",
    "    for i in range(mass[:,0].size-1):\n",
    "        if mass[i+1,np.isfinite(mass[i+1,:])].size>0:\n",
    "            idx=np.nanargmax(mass[i+1,:])\n",
    "            subhaloes[ihalo]=np.append(subhaloes[ihalo], mass[i+1,idx])\n",
    "            infall_zs[ihalo]=np.append(infall_zs[ihalo], red[idx])\n",
    "            orders[ihalo]=np.append(orders[ihalo], order[i+1,idx])\n",
    "    merger_histories.append( np.array([ np.log10(np.sum(10**subhaloes[ihalo][np.logical_and(infall_zs[ihalo]>Z,orders[ihalo]<=1)]) ) for Z in z]) )"
   ]
  },
  {
   "cell_type": "code",
   "execution_count": 42,
   "id": "732f77e0",
   "metadata": {},
   "outputs": [],
   "source": [
    "np.save(\"SatGen_merger_trees/SatGen_tree_reduced.npy\", [np.array(subhaloes), np.array(infall_zs), np.array(orders)])#, np.array(merger_histories)])\n"
   ]
  },
  {
   "cell_type": "code",
   "execution_count": 3,
   "id": "b27274dd",
   "metadata": {},
   "outputs": [],
   "source": [
    "tree=np.load(\"SatGen_merger_trees/SatGen_tree_reduced.npy\", allow_pickle=True)\n",
    "subhaloes=tree[0].copy()\n",
    "infall_zs=tree[1].copy()\n",
    "orders=tree[2].copy()"
   ]
  },
  {
   "cell_type": "code",
   "execution_count": 5,
   "id": "df7085c5",
   "metadata": {},
   "outputs": [],
   "source": [
    "x=np.array([-99. in tree[0,i] for i in range(tree[0,:].size)])"
   ]
  },
  {
   "cell_type": "code",
   "execution_count": 12,
   "id": "e6a48d96",
   "metadata": {},
   "outputs": [],
   "source": [
    "y=np.array([not X for X in x])"
   ]
  },
  {
   "cell_type": "code",
   "execution_count": 16,
   "id": "ba2ab55e",
   "metadata": {},
   "outputs": [
    {
     "data": {
      "text/plain": [
       "(array([[0., 1., 0., ..., 0., 0., 0.],\n",
       "        [1., 1., 0., ..., 0., 0., 0.],\n",
       "        [1., 0., 0., ..., 0., 0., 0.],\n",
       "        ...,\n",
       "        [0., 0., 0., ..., 1., 2., 0.],\n",
       "        [0., 0., 0., ..., 4., 0., 1.],\n",
       "        [0., 0., 0., ..., 2., 0., 0.]]),\n",
       " array([10.00000085, 10.19894552, 10.39789019, 10.59683487, 10.79577954,\n",
       "        10.99472421, 11.19366889, 11.39261356, 11.59155824, 11.79050291,\n",
       "        11.98944758, 12.18839226, 12.38733693, 12.5862816 , 12.78522628,\n",
       "        12.98417095, 13.18311562, 13.3820603 , 13.58100497, 13.77994964,\n",
       "        13.97889432]),\n",
       " <a list of 9720 BarContainer objects>)"
      ]
     },
     "execution_count": 16,
     "metadata": {},
     "output_type": "execute_result"
    },
    {
     "data": {
      "image/png": "[encoded data removed]",
      "text/plain": [
       "<Figure size 640x480 with 1 Axes>"
      ]
     },
     "metadata": {},
     "output_type": "display_data"
    }
   ],
   "source": [
    "plt.hist(tree[0,y], bins=20)"
   ]
  },
  {
   "cell_type": "code",
   "execution_count": 4,
   "id": "83f80512",
   "metadata": {},
   "outputs": [
    {
     "data": {
      "text/plain": [
       "9908"
      ]
     },
     "execution_count": 4,
     "metadata": {},
     "output_type": "execute_result"
    }
   ],
   "source": [
    "tree[0,:].size"
   ]
  },
  {
   "cell_type": "code",
   "execution_count": 15,
   "id": "6fd397e8",
   "metadata": {},
   "outputs": [
    {
     "ename": "NameError",
     "evalue": "name 'z' is not defined",
     "output_type": "error",
     "traceback": [
      "\u001b[0;31m---------------------------------------------------------------------------\u001b[0m",
      "\u001b[0;31mNameError\u001b[0m                                 Traceback (most recent call last)",
      "\u001b[0;32m/var/folders/_x/bpdc28dn32b7_s0w_0pr957r0000gn/T/ipykernel_76621/3806359011.py\u001b[0m in \u001b[0;36m<module>\u001b[0;34m\u001b[0m\n\u001b[1;32m      1\u001b[0m \u001b[0mihalo\u001b[0m\u001b[0;34m=\u001b[0m\u001b[0;36m9904\u001b[0m\u001b[0;34m\u001b[0m\u001b[0;34m\u001b[0m\u001b[0m\n\u001b[0;32m----> 2\u001b[0;31m \u001b[0mplt\u001b[0m\u001b[0;34m.\u001b[0m\u001b[0mplot\u001b[0m\u001b[0;34m(\u001b[0m\u001b[0mz\u001b[0m\u001b[0;34m,\u001b[0m \u001b[0mmhlog_arr\u001b[0m\u001b[0;34m[\u001b[0m\u001b[0mihalo\u001b[0m\u001b[0;34m,\u001b[0m\u001b[0;34m:\u001b[0m\u001b[0;34m]\u001b[0m\u001b[0;34m)\u001b[0m\u001b[0;34m\u001b[0m\u001b[0;34m\u001b[0m\u001b[0m\n\u001b[0m\u001b[1;32m      3\u001b[0m \u001b[0mmerger_history\u001b[0m \u001b[0;34m=\u001b[0m \u001b[0mnp\u001b[0m\u001b[0;34m.\u001b[0m\u001b[0marray\u001b[0m\u001b[0;34m(\u001b[0m\u001b[0;34m[\u001b[0m \u001b[0mnp\u001b[0m\u001b[0;34m.\u001b[0m\u001b[0mlog10\u001b[0m\u001b[0;34m(\u001b[0m\u001b[0mnp\u001b[0m\u001b[0;34m.\u001b[0m\u001b[0msum\u001b[0m\u001b[0;34m(\u001b[0m\u001b[0;36m10\u001b[0m\u001b[0;34m**\u001b[0m\u001b[0msubhaloes\u001b[0m\u001b[0;34m[\u001b[0m\u001b[0mihalo\u001b[0m\u001b[0;34m]\u001b[0m\u001b[0;34m[\u001b[0m\u001b[0mnp\u001b[0m\u001b[0;34m.\u001b[0m\u001b[0mlogical_and\u001b[0m\u001b[0;34m(\u001b[0m\u001b[0minfall_zs\u001b[0m\u001b[0;34m[\u001b[0m\u001b[0mihalo\u001b[0m\u001b[0;34m]\u001b[0m\u001b[0;34m>\u001b[0m\u001b[0mZ\u001b[0m\u001b[0;34m,\u001b[0m\u001b[0morders\u001b[0m\u001b[0;34m[\u001b[0m\u001b[0mihalo\u001b[0m\u001b[0;34m]\u001b[0m\u001b[0;34m<=\u001b[0m\u001b[0;36m1\u001b[0m\u001b[0;34m)\u001b[0m\u001b[0;34m]\u001b[0m\u001b[0;34m)\u001b[0m \u001b[0;34m)\u001b[0m \u001b[0;32mfor\u001b[0m \u001b[0mZ\u001b[0m \u001b[0;32min\u001b[0m \u001b[0mz\u001b[0m\u001b[0;34m]\u001b[0m\u001b[0;34m)\u001b[0m\u001b[0;34m\u001b[0m\u001b[0;34m\u001b[0m\u001b[0m\n\u001b[1;32m      4\u001b[0m \u001b[0mplt\u001b[0m\u001b[0;34m.\u001b[0m\u001b[0mplot\u001b[0m\u001b[0;34m(\u001b[0m\u001b[0mz\u001b[0m\u001b[0;34m,\u001b[0m \u001b[0mmerger_history\u001b[0m\u001b[0;34m)\u001b[0m\u001b[0;34m\u001b[0m\u001b[0;34m\u001b[0m\u001b[0m\n",
      "\u001b[0;31mNameError\u001b[0m: name 'z' is not defined"
     ]
    }
   ],
   "source": [
    "ihalo=9904\n",
    "plt.plot(z, mhlog_arr[ihalo,:])\n",
    "merger_history = np.array([ np.log10(np.sum(10**subhaloes[ihalo][np.logical_and(infall_zs[ihalo]>Z,orders[ihalo]<=1)]) ) for Z in z])\n",
    "plt.plot(z, merger_history)\n"
   ]
  },
  {
   "cell_type": "code",
   "execution_count": null,
   "id": "7f3bfbaf",
   "metadata": {},
   "outputs": [],
   "source": []
  },
  {
   "cell_type": "code",
   "execution_count": null,
   "id": "a34007a4",
   "metadata": {},
   "outputs": [],
   "source": []
  }
 ],
 "metadata": {
  "kernelspec": {
   "display_name": "Python 3 (ipykernel)",
   "language": "python",
   "name": "python3"
  },
  "language_info": {
   "codemirror_mode": {
    "name": "ipython",
    "version": 3
   },
   "file_extension": ".py",
   "mimetype": "text/x-python",
   "name": "python",
   "nbconvert_exporter": "python",
   "pygments_lexer": "ipython3",
   "version": "3.7.12"
  }
 },
 "nbformat": 4,
 "nbformat_minor": 5
}
